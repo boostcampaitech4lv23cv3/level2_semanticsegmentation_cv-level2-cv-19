{
 "cells": [
  {
   "cell_type": "markdown",
   "metadata": {},
   "source": [
    "reference : https://github.com/boostcampaitech2/semantic-segmentation-level2-cv-04"
   ]
  },
  {
   "cell_type": "code",
   "execution_count": 13,
   "metadata": {},
   "outputs": [],
   "source": [
    "import os\n",
    "import os.path as osp\n",
    "import shutil\n",
    "import time\n",
    "import warnings\n",
    "\n",
    "import mmcv\n",
    "import mmcv_custom   # noqa: F401,F403\n",
    "import mmseg_custom   # noqa: F401,F403\n",
    "import torch\n",
    "from mmcv.parallel import MMDataParallel, MMDistributedDataParallel\n",
    "from mmcv.runner import (get_dist_info, init_dist, load_checkpoint,\n",
    "                         wrap_fp16_model)\n",
    "from mmcv.utils import DictAction\n",
    "from mmseg.apis import multi_gpu_test, single_gpu_test\n",
    "from mmseg.datasets import build_dataloader, build_dataset\n",
    "from mmseg.models import build_segmentor\n",
    "\n",
    "import pandas as pd\n",
    "import numpy as np\n",
    "import json"
   ]
  },
  {
   "cell_type": "code",
   "execution_count": 6,
   "metadata": {},
   "outputs": [],
   "source": [
    "# config file_dir, work_dir 수정 후 사용\n",
    "\n",
    "# config file 들고오기\n",
    "cfg = Config.fromfile('/opt/ml/input/level2_semanticsegmentation_cv-level2-cv-19/ViT-Adapter/segmentation/configs/aistage/mask2former_beit_adapter_base_512_20k_aistage_ss.py') # load config file\n",
    "root='/opt/ml/input/mmseg/test/' # test img\n",
    "epoch = 'best_mIoU_iter_20000' # pth filename\n",
    "\n",
    "# dataset config 수정\n",
    "cfg.work_dir = './work_dirs/mask2former_beit_adapter_base_512_20k_aistage_ss/' # set work_dir\n",
    "cfg.data.test.img_dir = root\n",
    "cfg.data.test.pipeline[1]['img_scale'] = (512,512) # Resize\n",
    "cfg.data.test.test_mode = True\n",
    "cfg.data.samples_per_gpu = 1\n",
    "cfg.optimizer_config.grad_clip = dict(max_norm=35, norm_type=2)\n",
    "cfg.model.train_cfg = None\n",
    "\n",
    "# checkpoint path\n",
    "checkpoint_path = os.path.join(cfg.work_dir, f'{epoch}.pth')"
   ]
  },
  {
   "cell_type": "code",
   "execution_count": 7,
   "metadata": {},
   "outputs": [
    {
     "name": "stderr",
     "output_type": "stream",
     "text": [
      "2023-01-03 01:56:51,216 - mmseg - INFO - Loaded 819 images\n"
     ]
    }
   ],
   "source": [
    "dataset = build_dataset(cfg.data.test)\n",
    "data_loader = build_dataloader(\n",
    "        dataset,\n",
    "        samples_per_gpu=cfg.data.samples_per_gpu,\n",
    "        workers_per_gpu=cfg.data.workers_per_gpu,\n",
    "        dist=False,\n",
    "        shuffle=False)"
   ]
  },
  {
   "cell_type": "code",
   "execution_count": 8,
   "metadata": {},
   "outputs": [
    {
     "name": "stderr",
     "output_type": "stream",
     "text": [
      "2023-01-03 01:56:53,157 - mmseg - WARNING - The model and loaded state dict do not match exactly\n",
      "\n",
      "unexpected key in source state_dict: fc_norm.weight, fc_norm.bias, head.weight, head.bias\n",
      "\n",
      "missing keys in source state_dict: blocks.0.attn.relative_position_index, blocks.1.attn.relative_position_index, blocks.2.attn.relative_position_index, blocks.3.attn.relative_position_index, blocks.4.attn.relative_position_index, blocks.5.attn.relative_position_index, blocks.6.attn.relative_position_index, blocks.7.attn.relative_position_index, blocks.8.attn.relative_position_index, blocks.9.attn.relative_position_index, blocks.10.attn.relative_position_index, blocks.11.attn.relative_position_index\n",
      "\n"
     ]
    },
    {
     "name": "stdout",
     "output_type": "stream",
     "text": [
      "Position interpolate for blocks.0.attn.relative_position_bias_table from 27x27 to 63x63\n",
      "x = [-31.000181806480445, -26.433792368127026, -22.410250408812363, -18.86502280242512, -15.741248051675145, -12.988824293086934, -10.563605718981357, -8.426694527950382, -6.5438170474999815, -4.884774022564157, -3.422956253130848, -2.134917812347412, -1, 0, 1, 2.134917812347412, 3.422956253130848, 4.884774022564157, 6.5438170474999815, 8.426694527950382, 10.563605718981357, 12.988824293086934, 15.741248051675145, 18.86502280242512, 22.410250408812363, 26.433792368127026, 31.000181806480445]\n",
      "dx = [-31. -30. -29. -28. -27. -26. -25. -24. -23. -22. -21. -20. -19. -18.\n",
      " -17. -16. -15. -14. -13. -12. -11. -10.  -9.  -8.  -7.  -6.  -5.  -4.\n",
      "  -3.  -2.  -1.   0.   1.   2.   3.   4.   5.   6.   7.   8.   9.  10.\n",
      "  11.  12.  13.  14.  15.  16.  17.  18.  19.  20.  21.  22.  23.  24.\n",
      "  25.  26.  27.  28.  29.  30.  31.]\n",
      "Position interpolate for blocks.1.attn.relative_position_bias_table from 27x27 to 63x63\n",
      "x = [-31.000181806480445, -26.433792368127026, -22.410250408812363, -18.86502280242512, -15.741248051675145, -12.988824293086934, -10.563605718981357, -8.426694527950382, -6.5438170474999815, -4.884774022564157, -3.422956253130848, -2.134917812347412, -1, 0, 1, 2.134917812347412, 3.422956253130848, 4.884774022564157, 6.5438170474999815, 8.426694527950382, 10.563605718981357, 12.988824293086934, 15.741248051675145, 18.86502280242512, 22.410250408812363, 26.433792368127026, 31.000181806480445]\n",
      "dx = [-31. -30. -29. -28. -27. -26. -25. -24. -23. -22. -21. -20. -19. -18.\n",
      " -17. -16. -15. -14. -13. -12. -11. -10.  -9.  -8.  -7.  -6.  -5.  -4.\n",
      "  -3.  -2.  -1.   0.   1.   2.   3.   4.   5.   6.   7.   8.   9.  10.\n",
      "  11.  12.  13.  14.  15.  16.  17.  18.  19.  20.  21.  22.  23.  24.\n",
      "  25.  26.  27.  28.  29.  30.  31.]\n",
      "Position interpolate for blocks.2.attn.relative_position_bias_table from 27x27 to 63x63\n",
      "x = [-31.000181806480445, -26.433792368127026, -22.410250408812363, -18.86502280242512, -15.741248051675145, -12.988824293086934, -10.563605718981357, -8.426694527950382, -6.5438170474999815, -4.884774022564157, -3.422956253130848, -2.134917812347412, -1, 0, 1, 2.134917812347412, 3.422956253130848, 4.884774022564157, 6.5438170474999815, 8.426694527950382, 10.563605718981357, 12.988824293086934, 15.741248051675145, 18.86502280242512, 22.410250408812363, 26.433792368127026, 31.000181806480445]\n",
      "dx = [-31. -30. -29. -28. -27. -26. -25. -24. -23. -22. -21. -20. -19. -18.\n",
      " -17. -16. -15. -14. -13. -12. -11. -10.  -9.  -8.  -7.  -6.  -5.  -4.\n",
      "  -3.  -2.  -1.   0.   1.   2.   3.   4.   5.   6.   7.   8.   9.  10.\n",
      "  11.  12.  13.  14.  15.  16.  17.  18.  19.  20.  21.  22.  23.  24.\n",
      "  25.  26.  27.  28.  29.  30.  31.]\n",
      "Position interpolate for blocks.3.attn.relative_position_bias_table from 27x27 to 63x63\n",
      "x = [-31.000181806480445, -26.433792368127026, -22.410250408812363, -18.86502280242512, -15.741248051675145, -12.988824293086934, -10.563605718981357, -8.426694527950382, -6.5438170474999815, -4.884774022564157, -3.422956253130848, -2.134917812347412, -1, 0, 1, 2.134917812347412, 3.422956253130848, 4.884774022564157, 6.5438170474999815, 8.426694527950382, 10.563605718981357, 12.988824293086934, 15.741248051675145, 18.86502280242512, 22.410250408812363, 26.433792368127026, 31.000181806480445]\n",
      "dx = [-31. -30. -29. -28. -27. -26. -25. -24. -23. -22. -21. -20. -19. -18.\n",
      " -17. -16. -15. -14. -13. -12. -11. -10.  -9.  -8.  -7.  -6.  -5.  -4.\n",
      "  -3.  -2.  -1.   0.   1.   2.   3.   4.   5.   6.   7.   8.   9.  10.\n",
      "  11.  12.  13.  14.  15.  16.  17.  18.  19.  20.  21.  22.  23.  24.\n",
      "  25.  26.  27.  28.  29.  30.  31.]\n",
      "Position interpolate for blocks.4.attn.relative_position_bias_table from 27x27 to 63x63\n",
      "x = [-31.000181806480445, -26.433792368127026, -22.410250408812363, -18.86502280242512, -15.741248051675145, -12.988824293086934, -10.563605718981357, -8.426694527950382, -6.5438170474999815, -4.884774022564157, -3.422956253130848, -2.134917812347412, -1, 0, 1, 2.134917812347412, 3.422956253130848, 4.884774022564157, 6.5438170474999815, 8.426694527950382, 10.563605718981357, 12.988824293086934, 15.741248051675145, 18.86502280242512, 22.410250408812363, 26.433792368127026, 31.000181806480445]\n",
      "dx = [-31. -30. -29. -28. -27. -26. -25. -24. -23. -22. -21. -20. -19. -18.\n",
      " -17. -16. -15. -14. -13. -12. -11. -10.  -9.  -8.  -7.  -6.  -5.  -4.\n",
      "  -3.  -2.  -1.   0.   1.   2.   3.   4.   5.   6.   7.   8.   9.  10.\n",
      "  11.  12.  13.  14.  15.  16.  17.  18.  19.  20.  21.  22.  23.  24.\n",
      "  25.  26.  27.  28.  29.  30.  31.]\n",
      "Position interpolate for blocks.5.attn.relative_position_bias_table from 27x27 to 63x63\n",
      "x = [-31.000181806480445, -26.433792368127026, -22.410250408812363, -18.86502280242512, -15.741248051675145, -12.988824293086934, -10.563605718981357, -8.426694527950382, -6.5438170474999815, -4.884774022564157, -3.422956253130848, -2.134917812347412, -1, 0, 1, 2.134917812347412, 3.422956253130848, 4.884774022564157, 6.5438170474999815, 8.426694527950382, 10.563605718981357, 12.988824293086934, 15.741248051675145, 18.86502280242512, 22.410250408812363, 26.433792368127026, 31.000181806480445]\n",
      "dx = [-31. -30. -29. -28. -27. -26. -25. -24. -23. -22. -21. -20. -19. -18.\n",
      " -17. -16. -15. -14. -13. -12. -11. -10.  -9.  -8.  -7.  -6.  -5.  -4.\n",
      "  -3.  -2.  -1.   0.   1.   2.   3.   4.   5.   6.   7.   8.   9.  10.\n",
      "  11.  12.  13.  14.  15.  16.  17.  18.  19.  20.  21.  22.  23.  24.\n",
      "  25.  26.  27.  28.  29.  30.  31.]\n",
      "Position interpolate for blocks.6.attn.relative_position_bias_table from 27x27 to 63x63\n",
      "x = [-31.000181806480445, -26.433792368127026, -22.410250408812363, -18.86502280242512, -15.741248051675145, -12.988824293086934, -10.563605718981357, -8.426694527950382, -6.5438170474999815, -4.884774022564157, -3.422956253130848, -2.134917812347412, -1, 0, 1, 2.134917812347412, 3.422956253130848, 4.884774022564157, 6.5438170474999815, 8.426694527950382, 10.563605718981357, 12.988824293086934, 15.741248051675145, 18.86502280242512, 22.410250408812363, 26.433792368127026, 31.000181806480445]\n",
      "dx = [-31. -30. -29. -28. -27. -26. -25. -24. -23. -22. -21. -20. -19. -18.\n",
      " -17. -16. -15. -14. -13. -12. -11. -10.  -9.  -8.  -7.  -6.  -5.  -4.\n",
      "  -3.  -2.  -1.   0.   1.   2.   3.   4.   5.   6.   7.   8.   9.  10.\n",
      "  11.  12.  13.  14.  15.  16.  17.  18.  19.  20.  21.  22.  23.  24.\n",
      "  25.  26.  27.  28.  29.  30.  31.]\n",
      "Position interpolate for blocks.7.attn.relative_position_bias_table from 27x27 to 63x63\n",
      "x = [-31.000181806480445, -26.433792368127026, -22.410250408812363, -18.86502280242512, -15.741248051675145, -12.988824293086934, -10.563605718981357, -8.426694527950382, -6.5438170474999815, -4.884774022564157, -3.422956253130848, -2.134917812347412, -1, 0, 1, 2.134917812347412, 3.422956253130848, 4.884774022564157, 6.5438170474999815, 8.426694527950382, 10.563605718981357, 12.988824293086934, 15.741248051675145, 18.86502280242512, 22.410250408812363, 26.433792368127026, 31.000181806480445]\n",
      "dx = [-31. -30. -29. -28. -27. -26. -25. -24. -23. -22. -21. -20. -19. -18.\n",
      " -17. -16. -15. -14. -13. -12. -11. -10.  -9.  -8.  -7.  -6.  -5.  -4.\n",
      "  -3.  -2.  -1.   0.   1.   2.   3.   4.   5.   6.   7.   8.   9.  10.\n",
      "  11.  12.  13.  14.  15.  16.  17.  18.  19.  20.  21.  22.  23.  24.\n",
      "  25.  26.  27.  28.  29.  30.  31.]\n",
      "Position interpolate for blocks.8.attn.relative_position_bias_table from 27x27 to 63x63\n",
      "x = [-31.000181806480445, -26.433792368127026, -22.410250408812363, -18.86502280242512, -15.741248051675145, -12.988824293086934, -10.563605718981357, -8.426694527950382, -6.5438170474999815, -4.884774022564157, -3.422956253130848, -2.134917812347412, -1, 0, 1, 2.134917812347412, 3.422956253130848, 4.884774022564157, 6.5438170474999815, 8.426694527950382, 10.563605718981357, 12.988824293086934, 15.741248051675145, 18.86502280242512, 22.410250408812363, 26.433792368127026, 31.000181806480445]\n",
      "dx = [-31. -30. -29. -28. -27. -26. -25. -24. -23. -22. -21. -20. -19. -18.\n",
      " -17. -16. -15. -14. -13. -12. -11. -10.  -9.  -8.  -7.  -6.  -5.  -4.\n",
      "  -3.  -2.  -1.   0.   1.   2.   3.   4.   5.   6.   7.   8.   9.  10.\n",
      "  11.  12.  13.  14.  15.  16.  17.  18.  19.  20.  21.  22.  23.  24.\n",
      "  25.  26.  27.  28.  29.  30.  31.]\n",
      "Position interpolate for blocks.9.attn.relative_position_bias_table from 27x27 to 63x63\n",
      "x = [-31.000181806480445, -26.433792368127026, -22.410250408812363, -18.86502280242512, -15.741248051675145, -12.988824293086934, -10.563605718981357, -8.426694527950382, -6.5438170474999815, -4.884774022564157, -3.422956253130848, -2.134917812347412, -1, 0, 1, 2.134917812347412, 3.422956253130848, 4.884774022564157, 6.5438170474999815, 8.426694527950382, 10.563605718981357, 12.988824293086934, 15.741248051675145, 18.86502280242512, 22.410250408812363, 26.433792368127026, 31.000181806480445]\n",
      "dx = [-31. -30. -29. -28. -27. -26. -25. -24. -23. -22. -21. -20. -19. -18.\n",
      " -17. -16. -15. -14. -13. -12. -11. -10.  -9.  -8.  -7.  -6.  -5.  -4.\n",
      "  -3.  -2.  -1.   0.   1.   2.   3.   4.   5.   6.   7.   8.   9.  10.\n",
      "  11.  12.  13.  14.  15.  16.  17.  18.  19.  20.  21.  22.  23.  24.\n",
      "  25.  26.  27.  28.  29.  30.  31.]\n",
      "Position interpolate for blocks.10.attn.relative_position_bias_table from 27x27 to 63x63\n",
      "x = [-31.000181806480445, -26.433792368127026, -22.410250408812363, -18.86502280242512, -15.741248051675145, -12.988824293086934, -10.563605718981357, -8.426694527950382, -6.5438170474999815, -4.884774022564157, -3.422956253130848, -2.134917812347412, -1, 0, 1, 2.134917812347412, 3.422956253130848, 4.884774022564157, 6.5438170474999815, 8.426694527950382, 10.563605718981357, 12.988824293086934, 15.741248051675145, 18.86502280242512, 22.410250408812363, 26.433792368127026, 31.000181806480445]\n",
      "dx = [-31. -30. -29. -28. -27. -26. -25. -24. -23. -22. -21. -20. -19. -18.\n",
      " -17. -16. -15. -14. -13. -12. -11. -10.  -9.  -8.  -7.  -6.  -5.  -4.\n",
      "  -3.  -2.  -1.   0.   1.   2.   3.   4.   5.   6.   7.   8.   9.  10.\n",
      "  11.  12.  13.  14.  15.  16.  17.  18.  19.  20.  21.  22.  23.  24.\n",
      "  25.  26.  27.  28.  29.  30.  31.]\n",
      "Position interpolate for blocks.11.attn.relative_position_bias_table from 27x27 to 63x63\n",
      "x = [-31.000181806480445, -26.433792368127026, -22.410250408812363, -18.86502280242512, -15.741248051675145, -12.988824293086934, -10.563605718981357, -8.426694527950382, -6.5438170474999815, -4.884774022564157, -3.422956253130848, -2.134917812347412, -1, 0, 1, 2.134917812347412, 3.422956253130848, 4.884774022564157, 6.5438170474999815, 8.426694527950382, 10.563605718981357, 12.988824293086934, 15.741248051675145, 18.86502280242512, 22.410250408812363, 26.433792368127026, 31.000181806480445]\n",
      "dx = [-31. -30. -29. -28. -27. -26. -25. -24. -23. -22. -21. -20. -19. -18.\n",
      " -17. -16. -15. -14. -13. -12. -11. -10.  -9.  -8.  -7.  -6.  -5.  -4.\n",
      "  -3.  -2.  -1.   0.   1.   2.   3.   4.   5.   6.   7.   8.   9.  10.\n",
      "  11.  12.  13.  14.  15.  16.  17.  18.  19.  20.  21.  22.  23.  24.\n",
      "  25.  26.  27.  28.  29.  30.  31.]\n"
     ]
    },
    {
     "name": "stderr",
     "output_type": "stream",
     "text": [
      "/opt/ml/input/level2_semanticsegmentation_cv-level2-cv-19/ViT-Adapter/segmentation/mmseg_custom/models/losses/cross_entropy_loss.py:230: UserWarning: Default ``avg_non_ignore`` is False, if you would like to ignore the certain label and average loss over non-ignore labels, which is the same with PyTorch official cross_entropy, set ``avg_non_ignore=True``.\n",
      "  warnings.warn(\n"
     ]
    },
    {
     "name": "stdout",
     "output_type": "stream",
     "text": [
      "load checkpoint from local path: ./work_dirs/mask2former_beit_adapter_base_512_20k_aistage_ss/best_mIoU_iter_20000.pth\n"
     ]
    }
   ],
   "source": [
    "model = build_segmentor(cfg.model, test_cfg=cfg.get('test_cfg'))\n",
    "checkpoint = load_checkpoint(model, checkpoint_path, map_location='cpu')\n",
    "\n",
    "model.CLASSES = dataset.CLASSES\n",
    "model = MMDataParallel(model.cuda(), device_ids=[0])"
   ]
  },
  {
   "cell_type": "code",
   "execution_count": 9,
   "metadata": {},
   "outputs": [
    {
     "name": "stdout",
     "output_type": "stream",
     "text": [
      "[                                 ] 1/819, 1.0 task/s, elapsed: 1s, ETA:   855s"
     ]
    },
    {
     "name": "stderr",
     "output_type": "stream",
     "text": [
      "/opt/conda/envs/vita/lib/python3.8/site-packages/torch/nn/functional.py:3103: UserWarning: The default behavior for interpolate/upsample with float scale_factor changed in 1.6.0 to align with other frameworks/libraries, and now uses scale_factor directly, instead of relying on the computed output size. If you wish to restore the old behavior, please set recompute_scale_factor=True. See the documentation of nn.Upsample for details. \n",
      "  warnings.warn(\"The default behavior for interpolate/upsample with float scale_factor changed \"\n"
     ]
    },
    {
     "name": "stdout",
     "output_type": "stream",
     "text": [
      "[>>>>>>>>>>>>>>>>>>>>>>>>>>>>>] 819/819, 7.6 task/s, elapsed: 107s, ETA:     0s"
     ]
    }
   ],
   "source": [
    "output = single_gpu_test(model, data_loader)"
   ]
  },
  {
   "cell_type": "code",
   "execution_count": 12,
   "metadata": {},
   "outputs": [],
   "source": [
    "# sample_submisson.csv 열기\n",
    "submission = pd.read_csv('../../submission/sample_submission.csv', index_col=None)\n",
    "json_dir = os.path.join(\"/opt/ml/input/data/test.json\")\n",
    "with open(json_dir, \"r\", encoding=\"utf8\") as outfile:\n",
    "    datas = json.load(outfile)\n",
    "\n",
    "input_size = 512\n",
    "output_size = 256\n",
    "bin_size = input_size // output_size\n",
    "\t\t\n",
    "# PredictionString 대입\n",
    "for image_id, predict in enumerate(output):\n",
    "    image_id = datas[\"images\"][image_id]\n",
    "    file_name = image_id[\"file_name\"]\n",
    "    \n",
    "    temp_mask = []\n",
    "    predict = predict.reshape(1, 512, 512)\n",
    "    # resize predict to 256, 256\n",
    "    # reference : https://stackoverflow.com/questions/48121916/numpy-resize-rescale-image\n",
    "    mask = predict.reshape((1, output_size, bin_size, output_size, bin_size)).max(4).max(2) \n",
    "    temp_mask.append(mask)\n",
    "    oms = np.array(temp_mask)\n",
    "    oms = oms.reshape([oms.shape[0], output_size*output_size]).astype(int)\n",
    "\n",
    "    string = oms.flatten()\n",
    "\n",
    "    submission = submission.append({\"image_id\" : file_name, \"PredictionString\" : ' '.join(str(e) for e in string.tolist())}, \n",
    "                                   ignore_index=True)\n",
    "\n",
    "# submission.csv로 저장\n",
    "submission.to_csv(os.path.join(cfg.work_dir, f'submission_{epoch}.csv'), index=False)"
   ]
  },
  {
   "cell_type": "code",
   "execution_count": 15,
   "metadata": {},
   "outputs": [
    {
     "data": {
      "text/plain": [
       "'./work_dirs/mask2former_beit_adapter_base_512_20k_aistage_ss/'"
      ]
     },
     "execution_count": 15,
     "metadata": {},
     "output_type": "execute_result"
    }
   ],
   "source": [
    "cfg.work_dir"
   ]
  },
  {
   "cell_type": "code",
   "execution_count": null,
   "metadata": {},
   "outputs": [],
   "source": []
  }
 ],
 "metadata": {
  "kernelspec": {
   "display_name": "vita",
   "language": "python",
   "name": "python3"
  },
  "language_info": {
   "codemirror_mode": {
    "name": "ipython",
    "version": 3
   },
   "file_extension": ".py",
   "mimetype": "text/x-python",
   "name": "python",
   "nbconvert_exporter": "python",
   "pygments_lexer": "ipython3",
   "version": "3.8.5"
  },
  "vscode": {
   "interpreter": {
    "hash": "30e32ef70c80fc50cd4b475b761b55f014c846b417911e42f916b33259428c6a"
   }
  }
 },
 "nbformat": 4,
 "nbformat_minor": 4
}
