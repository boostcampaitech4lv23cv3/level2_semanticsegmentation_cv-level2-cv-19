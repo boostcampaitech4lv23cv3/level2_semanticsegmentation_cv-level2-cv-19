{
 "cells": [
  {
   "cell_type": "code",
   "execution_count": 17,
   "id": "169f0ca9-8ebb-44a4-b98c-194b3cb02746",
   "metadata": {},
   "outputs": [],
   "source": [
    "import pandas as pd\n",
    "import numpy as np\n",
    "from tqdm import tqdm\n",
    "\n",
    "dfs = []\n",
    "\n",
    "dfs.append(pd.read_csv('./submission/2023-01-04-1749.csv'))\n",
    "dfs.append(pd.read_csv('./submission/2023-01-04-0211.csv'))\n",
    "dfs.append(pd.read_csv('./submission/2023-01-05-1454_crf.csv'))\n",
    "dfs.append(pd.read_csv('./submission/2023-01-05-0947.csv'))\n",
    "\n",
    "if len(dfs) < 3:\n",
    "    print(\"At least 3 csv files are requied!\")"
   ]
  },
  {
   "cell_type": "code",
   "execution_count": 18,
   "id": "7e5557a4-80ee-4bd7-8f90-6151cb486972",
   "metadata": {},
   "outputs": [],
   "source": [
    "submission = pd.DataFrame()\n",
    "submission['image_id'] = dfs[0]['image_id']"
   ]
  },
  {
   "cell_type": "code",
   "execution_count": 19,
   "id": "d99a693e-2262-4180-ac15-a6a8eb4066d3",
   "metadata": {},
   "outputs": [
    {
     "name": "stderr",
     "output_type": "stream",
     "text": [
      "100%|██████████| 819/819 [06:59<00:00,  1.95it/s]\n"
     ]
    }
   ],
   "source": [
    "PredictionString = []\n",
    "\n",
    "for idx in tqdm(range(len(dfs[0]))):\n",
    "    image_segmentation_preds = []\n",
    "    for df in dfs:\n",
    "        image_segmentation_preds.append(df['PredictionString'][idx].split(' '))\n",
    "\n",
    "    result = ''\n",
    "\n",
    "    for i in range(len(aa)):\n",
    "        pixel_dict = {'0' : 0, '1' : 0, '2' : 0, \n",
    "                      '3' : 0, '4' : 0, '5' : 0,\n",
    "                      '6' : 0, '7' : 0, '8' : 0,\n",
    "                      '9' : 0, '10' : 0}\n",
    "\n",
    "        best_model = image_segmentation_preds[0][i]\n",
    "        second_model = image_segmentation_preds[1][i]\n",
    "        third_model = image_segmentation_preds[2][i]\n",
    "        \n",
    "        for image_segmentation_pred in image_segmentation_preds:\n",
    "            pixel_dict[image_segmentation_pred[i]] += 1\n",
    "\n",
    "        # 최댓값을 갖는 키값 추출\n",
    "        pixel = [key for key, value in pixel_dict.items() if value == max(pixel_dict.values())]\n",
    "        \n",
    "        # ensemble 모델이 ~4개\n",
    "        # 만약 최댓값을 갖는 키가 2개 이상(같은 표를 가진 경우)이고,\n",
    "        # best_model이 영향력을 행사했다면\n",
    "        if len(pixel) >= 2 and best_model in pixel:\n",
    "            result += best_model + ' '\n",
    "        \n",
    "        # ensemble 모델이 5개~6개\n",
    "        # 만약 최댓값을 갖는 키가 2개 이상(같은 표를 가진 경우)이고,\n",
    "        # best_model이 outsider, second_model이 영향력을 행사했다면\n",
    "        elif len(pixel) >= 2 and second_model in pixel:\n",
    "            result += second_model + ' '\n",
    "            \n",
    "        # 만약 1개라면 해당 키 반환\n",
    "        else:\n",
    "            result += pixel[0] + ' '\n",
    "\n",
    "    # 마지막 공백 제거\n",
    "    result = result[:-1]\n",
    "    PredictionString.append(result)"
   ]
  },
  {
   "cell_type": "code",
   "execution_count": 20,
   "id": "278295b6-d37d-410d-8da1-8453e39b2d8c",
   "metadata": {},
   "outputs": [],
   "source": [
    "submission['PredictionString'] = PredictionString"
   ]
  },
  {
   "cell_type": "code",
   "execution_count": 21,
   "id": "babc868a-519c-4b3a-903d-d10fc08f9b13",
   "metadata": {},
   "outputs": [],
   "source": [
    "submission.to_csv('./hard_voting_models.csv', index=False)"
   ]
  },
  {
   "cell_type": "code",
   "execution_count": null,
   "id": "9c8041e1-93a8-4c1a-bf77-32ab8a2a68ae",
   "metadata": {},
   "outputs": [],
   "source": []
  }
 ],
 "metadata": {
  "kernelspec": {
   "display_name": "Python 3 (ipykernel)",
   "language": "python",
   "name": "python3"
  },
  "language_info": {
   "codemirror_mode": {
    "name": "ipython",
    "version": 3
   },
   "file_extension": ".py",
   "mimetype": "text/x-python",
   "name": "python",
   "nbconvert_exporter": "python",
   "pygments_lexer": "ipython3",
   "version": "3.8.5"
  }
 },
 "nbformat": 4,
 "nbformat_minor": 5
}
